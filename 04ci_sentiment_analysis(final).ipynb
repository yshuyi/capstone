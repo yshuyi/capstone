{
 "cells": [
  {
   "cell_type": "markdown",
   "id": "e84760c2-7ba5-4a82-a904-8faaa9c96b49",
   "metadata": {},
   "source": [
    "## Sentiment analysis"
   ]
  },
  {
   "cell_type": "code",
   "execution_count": 27,
   "id": "ee99fd5f-569d-48af-ba56-46b19c636540",
   "metadata": {},
   "outputs": [
    {
     "name": "stdout",
     "output_type": "stream",
     "text": [
      "Collecting emoji\n",
      "  Using cached emoji-1.7.0-py3-none-any.whl\n",
      "Installing collected packages: emoji\n",
      "Successfully installed emoji-1.7.0\n"
     ]
    }
   ],
   "source": [
    "# pip install pandas\n",
    "# pip install -q transformers\n",
    "# !pip3 install emoji"
   ]
  },
  {
   "cell_type": "code",
   "execution_count": 1,
   "id": "8dd21664-9c40-4f3d-8985-84536d5c142d",
   "metadata": {},
   "outputs": [],
   "source": [
    "import pandas as pd\n",
    "from transformers import pipeline"
   ]
  },
  {
   "cell_type": "code",
   "execution_count": 2,
   "id": "259c0f48",
   "metadata": {
    "scrolled": true
   },
   "outputs": [],
   "source": [
    "from transformers import AutoTokenizer\n",
    "tokenizer = AutoTokenizer.from_pretrained(\"distilbert-base-uncased\")"
   ]
  },
  {
   "cell_type": "code",
   "execution_count": 3,
   "id": "542000a9-3502-473c-87fc-0f9bab3f3862",
   "metadata": {
    "scrolled": true,
    "tags": []
   },
   "outputs": [],
   "source": [
    "sentiment_pipeline = pipeline(\"sentiment-analysis\", model=\"finiteautomata/bertweet-base-sentiment-analysis\", truncation=True)"
   ]
  },
  {
   "cell_type": "code",
   "execution_count": 13,
   "id": "89c34916-9e44-4c05-bbc7-375be0cceda6",
   "metadata": {},
   "outputs": [
    {
     "data": {
      "text/plain": [
       "(205594, 6)"
      ]
     },
     "execution_count": 27,
     "metadata": {},
     "output_type": "execute_result"
    }
   ],
   "source": [
    "sep = pd.read_csv('./datasets/sep_combi_final_preprocessed.csv', usecols = ['num_comments','score', 'link_flair_text', 'post', 'covid_onset', \n",
    "       'cleaned_text'] ,low_memory=False)\n",
    "sep.shape"
   ]
  },
  {
   "cell_type": "code",
   "execution_count": 44,
   "id": "68d15a22-d542-48e7-9cf1-a7dd41177a6f",
   "metadata": {},
   "outputs": [
    {
     "name": "stdout",
     "output_type": "stream",
     "text": [
      "(3764, 6)\n"
     ]
    },
    {
     "data": {
      "text/html": [
       "<div>\n",
       "<style scoped>\n",
       "    .dataframe tbody tr th:only-of-type {\n",
       "        vertical-align: middle;\n",
       "    }\n",
       "\n",
       "    .dataframe tbody tr th {\n",
       "        vertical-align: top;\n",
       "    }\n",
       "\n",
       "    .dataframe thead th {\n",
       "        text-align: right;\n",
       "    }\n",
       "</style>\n",
       "<table border=\"1\" class=\"dataframe\">\n",
       "  <thead>\n",
       "    <tr style=\"text-align: right;\">\n",
       "      <th></th>\n",
       "      <th>num_comments</th>\n",
       "      <th>score</th>\n",
       "      <th>link_flair_text</th>\n",
       "      <th>post</th>\n",
       "      <th>covid_onset</th>\n",
       "      <th>cleaned_text</th>\n",
       "    </tr>\n",
       "  </thead>\n",
       "  <tbody>\n",
       "    <tr>\n",
       "      <th>0</th>\n",
       "      <td>15</td>\n",
       "      <td>4</td>\n",
       "      <td>NaN</td>\n",
       "      <td>submission</td>\n",
       "      <td>no</td>\n",
       "      <td>Trans woman here wanting a Sephora makeover I ...</td>\n",
       "    </tr>\n",
       "    <tr>\n",
       "      <th>1</th>\n",
       "      <td>17</td>\n",
       "      <td>3</td>\n",
       "      <td>NaN</td>\n",
       "      <td>submission</td>\n",
       "      <td>no</td>\n",
       "      <td>Does Sephora still give out physical cards for...</td>\n",
       "    </tr>\n",
       "    <tr>\n",
       "      <th>2</th>\n",
       "      <td>14</td>\n",
       "      <td>3</td>\n",
       "      <td>NaN</td>\n",
       "      <td>submission</td>\n",
       "      <td>no</td>\n",
       "      <td>VIB Rouge Welcome Gift Availability I became V...</td>\n",
       "    </tr>\n",
       "    <tr>\n",
       "      <th>3</th>\n",
       "      <td>14</td>\n",
       "      <td>6</td>\n",
       "      <td>NaN</td>\n",
       "      <td>submission</td>\n",
       "      <td>no</td>\n",
       "      <td>Pressed powder foundation brush recommendation...</td>\n",
       "    </tr>\n",
       "    <tr>\n",
       "      <th>4</th>\n",
       "      <td>18</td>\n",
       "      <td>4</td>\n",
       "      <td>NaN</td>\n",
       "      <td>submission</td>\n",
       "      <td>no</td>\n",
       "      <td>Sephora Play Subscription Box Anyone here memb...</td>\n",
       "    </tr>\n",
       "  </tbody>\n",
       "</table>\n",
       "</div>"
      ],
      "text/plain": [
       "   num_comments  score link_flair_text        post covid_onset  \\\n",
       "0            15      4             NaN  submission          no   \n",
       "1            17      3             NaN  submission          no   \n",
       "2            14      3             NaN  submission          no   \n",
       "3            14      6             NaN  submission          no   \n",
       "4            18      4             NaN  submission          no   \n",
       "\n",
       "                                        cleaned_text  \n",
       "0  Trans woman here wanting a Sephora makeover I ...  \n",
       "1  Does Sephora still give out physical cards for...  \n",
       "2  VIB Rouge Welcome Gift Availability I became V...  \n",
       "3  Pressed powder foundation brush recommendation...  \n",
       "4  Sephora Play Subscription Box Anyone here memb...  "
      ]
     },
     "execution_count": 44,
     "metadata": {},
     "output_type": "execute_result"
    }
   ],
   "source": [
    "sep_sent = sep[(sep['num_comments'] > 13) & (sep['post'] == 'submission')].reset_index(drop=True)\n",
    "print(sep_sent.shape)\n",
    "sep_sent.head()"
   ]
  },
  {
   "cell_type": "code",
   "execution_count": 45,
   "id": "4b5815db-d228-4b77-abc6-33a8c13d6795",
   "metadata": {},
   "outputs": [],
   "source": [
    "sep_sent['cleaned_text'] = sep_sent['cleaned_text'].astype(str)"
   ]
  },
  {
   "cell_type": "code",
   "execution_count": 46,
   "id": "7e7d0ce5-342c-4d55-8fe1-53aab29a3893",
   "metadata": {},
   "outputs": [],
   "source": [
    "sep_sent['tokenised_text'] = sep_sent['cleaned_text'].apply(lambda x: tokenizer(x))"
   ]
  },
  {
   "cell_type": "code",
   "execution_count": 48,
   "id": "8d3432f4-895a-4400-a2c3-c6aab9edfe49",
   "metadata": {},
   "outputs": [],
   "source": [
    "sep_sent['hugging_outcome'] = sep_sent['cleaned_text'].apply(lambda x: sentiment_pipeline(x))"
   ]
  },
  {
   "cell_type": "markdown",
   "id": "306082eb",
   "metadata": {
    "jupyter": {
     "source_hidden": true
    },
    "tags": []
   },
   "source": [
    "# function to unpack out list containing dictionaries or dictionaries\n",
    "def unpack_cell(df, unpacked_col, new_col, key):\n",
    "    \"\"\"\n",
    "    create new column within dataframe storing what is requested and return a collection of unique dictionaries\n",
    "    \n",
    "    Parameters\n",
    "    ----------\n",
    "    Parameters to pass as part of num_col_null\n",
    "    \n",
    "    df : dataframe\n",
    "        dataframe containing column.\n",
    "    unpacked_col : string\n",
    "        column name in dataframe\n",
    "    new_col : string\n",
    "        column name in dataframe\n",
    "    key : string\n",
    "        'key' that is being unpacked from dictionary\n",
    "        \n",
    "    Return\n",
    "    ------\n",
    "    value returned after calling the function\n",
    "    \n",
    "    list_col : list\n",
    "        list containing a collection of unique dictionaries that was unpacked\n",
    "    \n",
    "    \"\"\"\n",
    "\n",
    "    \n",
    "    #============\n",
    "    \n",
    "    # store all possible dictionaries\n",
    "    list_col = [] \n",
    "    \n",
    "    # store list to attach to new_col\n",
    "    cat_list = []\n",
    "    \n",
    "    # loop to extract dictionary\n",
    "    for index, row in tqdm(df[unpacked_col].iteritems(), total=len(df)):\n",
    "    #    if index > 55:\n",
    "    #        break\n",
    "\n",
    "        # create list to store value\n",
    "        temp_list = []   \n",
    "        \n",
    "        # check if row is a list\n",
    "        if type(row) == list:\n",
    "            # check if is empty\n",
    "            if row == []:\n",
    "                cat_list.append(np.nan)\n",
    "            else:\n",
    "                # loop the list within the cell\n",
    "                for i in range(len(row)):\n",
    "                    # check if is existing identified value\n",
    "                    if row[i] not in list_col:\n",
    "                        # if is not in existing identified value, append\n",
    "                        list_col.append(row[i])\n",
    "                    temp_list.append(row[i].get(key, np.nan))\n",
    "                cat_list.append(temp_list)\n",
    "        else:\n",
    "            if row not in list_col:\n",
    "            # if is not in existing identified value, append\n",
    "                list_col.append(row)\n",
    "            cat_list.append(row.get(key, np.nan))\n",
    "    \n",
    "    # attach list to new_col in df\n",
    "    df[new_col] = cat_list\n",
    "    \n",
    "    return list_col"
   ]
  },
  {
   "cell_type": "code",
   "execution_count": 49,
   "id": "48ce4e27",
   "metadata": {},
   "outputs": [
    {
     "data": {
      "text/html": [
       "<div>\n",
       "<style scoped>\n",
       "    .dataframe tbody tr th:only-of-type {\n",
       "        vertical-align: middle;\n",
       "    }\n",
       "\n",
       "    .dataframe tbody tr th {\n",
       "        vertical-align: top;\n",
       "    }\n",
       "\n",
       "    .dataframe thead th {\n",
       "        text-align: right;\n",
       "    }\n",
       "</style>\n",
       "<table border=\"1\" class=\"dataframe\">\n",
       "  <thead>\n",
       "    <tr style=\"text-align: right;\">\n",
       "      <th></th>\n",
       "      <th>num_comments</th>\n",
       "      <th>score</th>\n",
       "      <th>link_flair_text</th>\n",
       "      <th>post</th>\n",
       "      <th>covid_onset</th>\n",
       "      <th>cleaned_text</th>\n",
       "      <th>tokenised_text</th>\n",
       "      <th>hugging_outcome</th>\n",
       "    </tr>\n",
       "  </thead>\n",
       "  <tbody>\n",
       "    <tr>\n",
       "      <th>0</th>\n",
       "      <td>15</td>\n",
       "      <td>4</td>\n",
       "      <td>NaN</td>\n",
       "      <td>submission</td>\n",
       "      <td>no</td>\n",
       "      <td>Trans woman here wanting a Sephora makeover I am transgender and know so little about makeup I booked an appointment at Sephora for their 50dollar program thing but I am unsure what it entails What I need is a sit down with someone who will show me what works best for my face and what I should buy Is that how it works o</td>\n",
       "      <td>[input_ids, attention_mask]</td>\n",
       "      <td>[{'label': 'NEU', 'score': 0.895317554473877}]</td>\n",
       "    </tr>\n",
       "    <tr>\n",
       "      <th>1</th>\n",
       "      <td>17</td>\n",
       "      <td>3</td>\n",
       "      <td>NaN</td>\n",
       "      <td>submission</td>\n",
       "      <td>no</td>\n",
       "      <td>Does Sephora still give out physical cards for Rouge I saw a post on MUA about getting the Rouge card and was confused because when I went to my local Sephora a week ago the cashier told me they no longer give out physical cards Is it just no longer available in Canada or is it still possible for me to get the Rouge card somehow</td>\n",
       "      <td>[input_ids, attention_mask]</td>\n",
       "      <td>[{'label': 'NEU', 'score': 0.908152163028717}]</td>\n",
       "    </tr>\n",
       "    <tr>\n",
       "      <th>2</th>\n",
       "      <td>14</td>\n",
       "      <td>3</td>\n",
       "      <td>NaN</td>\n",
       "      <td>submission</td>\n",
       "      <td>no</td>\n",
       "      <td>VIB Rouge Welcome Gift Availability I became VIB Rouge in November during the VIB sale and received an email telling me I could pick up my welcome gift Nars Goulue blush in stores or in the reward bazaar online It has never appeared in my rewards bazaar and I am rarely in a physical Sephora store Emailed Sephora in November and earlier today both times they told me both times it would be in stock soon Has anyone ever received it Is the rouge gift a Sephora urban myth</td>\n",
       "      <td>[input_ids, attention_mask]</td>\n",
       "      <td>[{'label': 'NEU', 'score': 0.7346374988555908}]</td>\n",
       "    </tr>\n",
       "    <tr>\n",
       "      <th>3</th>\n",
       "      <td>14</td>\n",
       "      <td>6</td>\n",
       "      <td>NaN</td>\n",
       "      <td>submission</td>\n",
       "      <td>no</td>\n",
       "      <td>Pressed powder foundation brush recommendations So I was being lazy and blow drying my NARS Hanamachi Kabuki Brush and managed to singe the whole top by drying it too close to the hair dryer And I do not think anywhere sells it anymore I was wondering if anyone has recommendations for similar small high quality dense brushes that will pick up lots of powder foundation for good coverage without caking Maybe something I can get at Sephora for 50 or less I am hoping to find something similar to It was small and did not have a huge handle so it was good for travel And tips for washingdrying these hella dense brushes Thanks</td>\n",
       "      <td>[input_ids, attention_mask]</td>\n",
       "      <td>[{'label': 'NEU', 'score': 0.8498795032501221}]</td>\n",
       "    </tr>\n",
       "    <tr>\n",
       "      <th>4</th>\n",
       "      <td>18</td>\n",
       "      <td>4</td>\n",
       "      <td>NaN</td>\n",
       "      <td>submission</td>\n",
       "      <td>no</td>\n",
       "      <td>Sephora Play Subscription Box Anyone here members of their subscription box My boyfriend just signed me up for my birthday and I am super psyched</td>\n",
       "      <td>[input_ids, attention_mask]</td>\n",
       "      <td>[{'label': 'POS', 'score': 0.9553959965705872}]</td>\n",
       "    </tr>\n",
       "  </tbody>\n",
       "</table>\n",
       "</div>"
      ],
      "text/plain": [
       "   num_comments  score link_flair_text        post covid_onset  \\\n",
       "0            15      4             NaN  submission          no   \n",
       "1            17      3             NaN  submission          no   \n",
       "2            14      3             NaN  submission          no   \n",
       "3            14      6             NaN  submission          no   \n",
       "4            18      4             NaN  submission          no   \n",
       "\n",
       "                                                                                                                                                                                                                                                                                                                                                                                                                                                                                                                                                                                                                                         cleaned_text  \\\n",
       "0                                                                                                                                                                                                                                                                                                                   Trans woman here wanting a Sephora makeover I am transgender and know so little about makeup I booked an appointment at Sephora for their 50dollar program thing but I am unsure what it entails What I need is a sit down with someone who will show me what works best for my face and what I should buy Is that how it works o   \n",
       "1                                                                                                                                                                                                                                                                                                          Does Sephora still give out physical cards for Rouge I saw a post on MUA about getting the Rouge card and was confused because when I went to my local Sephora a week ago the cashier told me they no longer give out physical cards Is it just no longer available in Canada or is it still possible for me to get the Rouge card somehow   \n",
       "2                                                                                                                                                             VIB Rouge Welcome Gift Availability I became VIB Rouge in November during the VIB sale and received an email telling me I could pick up my welcome gift Nars Goulue blush in stores or in the reward bazaar online It has never appeared in my rewards bazaar and I am rarely in a physical Sephora store Emailed Sephora in November and earlier today both times they told me both times it would be in stock soon Has anyone ever received it Is the rouge gift a Sephora urban myth   \n",
       "3  Pressed powder foundation brush recommendations So I was being lazy and blow drying my NARS Hanamachi Kabuki Brush and managed to singe the whole top by drying it too close to the hair dryer And I do not think anywhere sells it anymore I was wondering if anyone has recommendations for similar small high quality dense brushes that will pick up lots of powder foundation for good coverage without caking Maybe something I can get at Sephora for 50 or less I am hoping to find something similar to It was small and did not have a huge handle so it was good for travel And tips for washingdrying these hella dense brushes Thanks   \n",
       "4                                                                                                                                                                                                                                                                                                                                                                                                                                                                                                   Sephora Play Subscription Box Anyone here members of their subscription box My boyfriend just signed me up for my birthday and I am super psyched   \n",
       "\n",
       "                tokenised_text  \\\n",
       "0  [input_ids, attention_mask]   \n",
       "1  [input_ids, attention_mask]   \n",
       "2  [input_ids, attention_mask]   \n",
       "3  [input_ids, attention_mask]   \n",
       "4  [input_ids, attention_mask]   \n",
       "\n",
       "                                   hugging_outcome  \n",
       "0   [{'label': 'NEU', 'score': 0.895317554473877}]  \n",
       "1   [{'label': 'NEU', 'score': 0.908152163028717}]  \n",
       "2  [{'label': 'NEU', 'score': 0.7346374988555908}]  \n",
       "3  [{'label': 'NEU', 'score': 0.8498795032501221}]  \n",
       "4  [{'label': 'POS', 'score': 0.9553959965705872}]  "
      ]
     },
     "execution_count": 49,
     "metadata": {},
     "output_type": "execute_result"
    }
   ],
   "source": [
    "pd.set_option('display.max_colwidth', None)\n",
    "sep_sent.head()"
   ]
  },
  {
   "cell_type": "code",
   "execution_count": 50,
   "id": "f20fced1",
   "metadata": {
    "scrolled": true
   },
   "outputs": [
    {
     "data": {
      "text/plain": [
       "[{'label': 'NEU', 'score': 0.895317554473877}]"
      ]
     },
     "execution_count": 50,
     "metadata": {},
     "output_type": "execute_result"
    }
   ],
   "source": [
    "sep_sent['hugging_outcome'][0]"
   ]
  },
  {
   "cell_type": "code",
   "execution_count": 51,
   "id": "e73ab316",
   "metadata": {},
   "outputs": [],
   "source": [
    "# Using list comprehension\n",
    "# Get values of particular key in list of dictionaries\n",
    "def get_sentiment(x):\n",
    "    value =  [sub['label'] for sub in x]\n",
    "    senti = (value)[0]\n",
    "    return senti"
   ]
  },
  {
   "cell_type": "code",
   "execution_count": 52,
   "id": "043e996e",
   "metadata": {},
   "outputs": [],
   "source": [
    "def get_score(x):\n",
    "    value =  [sub['score'] for sub in x]\n",
    "    score = (value)[0]   \n",
    "    return score"
   ]
  },
  {
   "cell_type": "code",
   "execution_count": 53,
   "id": "e899326d",
   "metadata": {},
   "outputs": [],
   "source": [
    "sep_sent['sentiment'] = sep_sent['hugging_outcome'].apply(lambda x: get_sentiment(x))"
   ]
  },
  {
   "cell_type": "code",
   "execution_count": 54,
   "id": "8618075c",
   "metadata": {},
   "outputs": [],
   "source": [
    "sep_sent['score'] = sep_sent['hugging_outcome'].apply(lambda x: get_score(x))"
   ]
  },
  {
   "cell_type": "code",
   "execution_count": 55,
   "id": "cda0b37a",
   "metadata": {},
   "outputs": [
    {
     "data": {
      "text/html": [
       "<div>\n",
       "<style scoped>\n",
       "    .dataframe tbody tr th:only-of-type {\n",
       "        vertical-align: middle;\n",
       "    }\n",
       "\n",
       "    .dataframe tbody tr th {\n",
       "        vertical-align: top;\n",
       "    }\n",
       "\n",
       "    .dataframe thead th {\n",
       "        text-align: right;\n",
       "    }\n",
       "</style>\n",
       "<table border=\"1\" class=\"dataframe\">\n",
       "  <thead>\n",
       "    <tr style=\"text-align: right;\">\n",
       "      <th></th>\n",
       "      <th>num_comments</th>\n",
       "      <th>score</th>\n",
       "      <th>link_flair_text</th>\n",
       "      <th>post</th>\n",
       "      <th>covid_onset</th>\n",
       "      <th>cleaned_text</th>\n",
       "      <th>tokenised_text</th>\n",
       "      <th>hugging_outcome</th>\n",
       "      <th>sentiment</th>\n",
       "    </tr>\n",
       "  </thead>\n",
       "  <tbody>\n",
       "    <tr>\n",
       "      <th>3759</th>\n",
       "      <td>80</td>\n",
       "      <td>0.890445</td>\n",
       "      <td>Discussion</td>\n",
       "      <td>submission</td>\n",
       "      <td>yes</td>\n",
       "      <td>How many foundations do you own I have so many foundations that I want to try How many do you own I have 2 already and do not use them every day so I am afraid they will spoil before I get to use them</td>\n",
       "      <td>[input_ids, attention_mask]</td>\n",
       "      <td>[{'label': 'NEU', 'score': 0.8904446959495544}]</td>\n",
       "      <td>NEU</td>\n",
       "    </tr>\n",
       "    <tr>\n",
       "      <th>3760</th>\n",
       "      <td>81</td>\n",
       "      <td>0.502281</td>\n",
       "      <td>PSA</td>\n",
       "      <td>submission</td>\n",
       "      <td>yes</td>\n",
       "      <td>4X Points on Entire Order when you purchase any Sephora Collection item</td>\n",
       "      <td>[input_ids, attention_mask]</td>\n",
       "      <td>[{'label': 'NEU', 'score': 0.5022813081741333}]</td>\n",
       "      <td>NEU</td>\n",
       "    </tr>\n",
       "    <tr>\n",
       "      <th>3761</th>\n",
       "      <td>20</td>\n",
       "      <td>0.981611</td>\n",
       "      <td>CANADA</td>\n",
       "      <td>submission</td>\n",
       "      <td>yes</td>\n",
       "      <td>You Are telling me I wasted 100 points on THIS Sephora be out here scamming woman facepalming mediumlight skin tone</td>\n",
       "      <td>[input_ids, attention_mask]</td>\n",
       "      <td>[{'label': 'NEG', 'score': 0.9816107749938965}]</td>\n",
       "      <td>NEG</td>\n",
       "    </tr>\n",
       "    <tr>\n",
       "      <th>3762</th>\n",
       "      <td>19</td>\n",
       "      <td>0.879546</td>\n",
       "      <td>PSA</td>\n",
       "      <td>submission</td>\n",
       "      <td>yes</td>\n",
       "      <td>FYI the Points Multiplier only works on Sephora Collection items</td>\n",
       "      <td>[input_ids, attention_mask]</td>\n",
       "      <td>[{'label': 'NEU', 'score': 0.8795461654663086}]</td>\n",
       "      <td>NEU</td>\n",
       "    </tr>\n",
       "    <tr>\n",
       "      <th>3763</th>\n",
       "      <td>18</td>\n",
       "      <td>0.967482</td>\n",
       "      <td>Question</td>\n",
       "      <td>submission</td>\n",
       "      <td>yes</td>\n",
       "      <td>Best skin like matte foundation that is actually long lasting I Have usually usually the long lasting foundations are super matte and heavy And the skin like foundations fade really quickly What Is the perfect foundation that combines both</td>\n",
       "      <td>[input_ids, attention_mask]</td>\n",
       "      <td>[{'label': 'POS', 'score': 0.967482328414917}]</td>\n",
       "      <td>POS</td>\n",
       "    </tr>\n",
       "  </tbody>\n",
       "</table>\n",
       "</div>"
      ],
      "text/plain": [
       "      num_comments     score link_flair_text        post covid_onset  \\\n",
       "3759            80  0.890445      Discussion  submission         yes   \n",
       "3760            81  0.502281             PSA  submission         yes   \n",
       "3761            20  0.981611          CANADA  submission         yes   \n",
       "3762            19  0.879546             PSA  submission         yes   \n",
       "3763            18  0.967482        Question  submission         yes   \n",
       "\n",
       "                                                                                                                                                                                                                                         cleaned_text  \\\n",
       "3759                                         How many foundations do you own I have so many foundations that I want to try How many do you own I have 2 already and do not use them every day so I am afraid they will spoil before I get to use them   \n",
       "3760                                                                                                                                                                          4X Points on Entire Order when you purchase any Sephora Collection item   \n",
       "3761                                                                                                                              You Are telling me I wasted 100 points on THIS Sephora be out here scamming woman facepalming mediumlight skin tone   \n",
       "3762                                                                                                                                                                                 FYI the Points Multiplier only works on Sephora Collection items   \n",
       "3763  Best skin like matte foundation that is actually long lasting I Have usually usually the long lasting foundations are super matte and heavy And the skin like foundations fade really quickly What Is the perfect foundation that combines both   \n",
       "\n",
       "                   tokenised_text  \\\n",
       "3759  [input_ids, attention_mask]   \n",
       "3760  [input_ids, attention_mask]   \n",
       "3761  [input_ids, attention_mask]   \n",
       "3762  [input_ids, attention_mask]   \n",
       "3763  [input_ids, attention_mask]   \n",
       "\n",
       "                                      hugging_outcome sentiment  \n",
       "3759  [{'label': 'NEU', 'score': 0.8904446959495544}]       NEU  \n",
       "3760  [{'label': 'NEU', 'score': 0.5022813081741333}]       NEU  \n",
       "3761  [{'label': 'NEG', 'score': 0.9816107749938965}]       NEG  \n",
       "3762  [{'label': 'NEU', 'score': 0.8795461654663086}]       NEU  \n",
       "3763   [{'label': 'POS', 'score': 0.967482328414917}]       POS  "
      ]
     },
     "execution_count": 55,
     "metadata": {},
     "output_type": "execute_result"
    }
   ],
   "source": [
    "sep_sent.tail()"
   ]
  },
  {
   "cell_type": "code",
   "execution_count": 57,
   "id": "ef13d35e",
   "metadata": {},
   "outputs": [],
   "source": [
    "pd.DataFrame(sep_sent).to_csv('datasets/sep_sentiment_analysis_bigger.csv', index=False)"
   ]
  },
  {
   "cell_type": "code",
   "execution_count": null,
   "id": "97997c6b-0070-429e-bd3d-8fe597991e41",
   "metadata": {},
   "outputs": [],
   "source": []
  }
 ],
 "metadata": {
  "kernelspec": {
   "display_name": "Python 3 (ipykernel)",
   "language": "python",
   "name": "python3"
  },
  "language_info": {
   "codemirror_mode": {
    "name": "ipython",
    "version": 3
   },
   "file_extension": ".py",
   "mimetype": "text/x-python",
   "name": "python",
   "nbconvert_exporter": "python",
   "pygments_lexer": "ipython3",
   "version": "3.8.12"
  }
 },
 "nbformat": 4,
 "nbformat_minor": 5
}
