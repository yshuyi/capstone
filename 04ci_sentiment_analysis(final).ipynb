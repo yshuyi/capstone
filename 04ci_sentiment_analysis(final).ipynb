{
 "cells": [
  {
   "cell_type": "markdown",
   "id": "e84760c2-7ba5-4a82-a904-8faaa9c96b49",
   "metadata": {},
   "source": [
    "## Sentiment analysis"
   ]
  },
  {
   "cell_type": "code",
   "execution_count": 27,
   "id": "ee99fd5f-569d-48af-ba56-46b19c636540",
   "metadata": {},
   "outputs": [
    {
     "name": "stdout",
     "output_type": "stream",
     "text": [
      "Collecting emoji\n",
      "  Using cached emoji-1.7.0-py3-none-any.whl\n",
      "Installing collected packages: emoji\n",
      "Successfully installed emoji-1.7.0\n"
     ]
    }
   ],
   "source": [
    "# pip install pandas\n",
    "# pip install -q transformers\n",
    "# !pip3 install emoji"
   ]
  },
  {
   "cell_type": "code",
   "execution_count": 30,
   "id": "8dd21664-9c40-4f3d-8985-84536d5c142d",
   "metadata": {},
   "outputs": [],
   "source": [
    "import pandas as pd\n",
    "from transformers import pipeline"
   ]
  },
  {
   "cell_type": "code",
   "execution_count": 31,
   "id": "259c0f48",
   "metadata": {
    "scrolled": true
   },
   "outputs": [],
   "source": [
    "from transformers import AutoTokenizer\n",
    "tokenizer = AutoTokenizer.from_pretrained(\"distilbert-base-uncased\")"
   ]
  },
  {
   "cell_type": "code",
   "execution_count": 32,
   "id": "542000a9-3502-473c-87fc-0f9bab3f3862",
   "metadata": {
    "scrolled": true,
    "tags": []
   },
   "outputs": [],
   "source": [
    "sentiment_pipeline = pipeline(\"sentiment-analysis\", model=\"finiteautomata/bertweet-base-sentiment-analysis\", truncation=True)"
   ]
  },
  {
   "cell_type": "code",
   "execution_count": 33,
   "id": "89c34916-9e44-4c05-bbc7-375be0cceda6",
   "metadata": {},
   "outputs": [
    {
     "data": {
      "text/plain": [
       "(205594, 5)"
      ]
     },
     "execution_count": 33,
     "metadata": {},
     "output_type": "execute_result"
    }
   ],
   "source": [
    "sep = pd.read_csv('./datasets/sep_combi_final_preprocessed.csv', usecols = ['num_comments', 'link_flair_text', 'post', 'covid_onset', \n",
    "       'cleaned_text'] ,low_memory=False)\n",
    "sep.shape"
   ]
  },
  {
   "cell_type": "code",
   "execution_count": 34,
   "id": "68d15a22-d542-48e7-9cf1-a7dd41177a6f",
   "metadata": {},
   "outputs": [],
   "source": [
    "sep_sent = sep[(sep['num_comments'] > 13) & (sep['link_flair_text'] == 'Discussion') & (sep['post'] == 'submission')].reset_index(drop=True)"
   ]
  },
  {
   "cell_type": "code",
   "execution_count": 35,
   "id": "4b5815db-d228-4b77-abc6-33a8c13d6795",
   "metadata": {},
   "outputs": [],
   "source": [
    "sep_sent['cleaned_text'] = sep_sent['cleaned_text'].astype(str)"
   ]
  },
  {
   "cell_type": "code",
   "execution_count": 36,
   "id": "7e7d0ce5-342c-4d55-8fe1-53aab29a3893",
   "metadata": {},
   "outputs": [],
   "source": [
    "sep_sent['tokenised_text'] = sep_sent['cleaned_text'].apply(lambda x: tokenizer(x))"
   ]
  },
  {
   "cell_type": "code",
   "execution_count": 37,
   "id": "8d3432f4-895a-4400-a2c3-c6aab9edfe49",
   "metadata": {},
   "outputs": [],
   "source": [
    "sep_sent['hugging_outcome'] = sep_sent['cleaned_text'].apply(lambda x: sentiment_pipeline(x))"
   ]
  },
  {
   "cell_type": "markdown",
   "id": "306082eb",
   "metadata": {
    "jupyter": {
     "source_hidden": true
    },
    "tags": []
   },
   "source": [
    "# function to unpack out list containing dictionaries or dictionaries\n",
    "def unpack_cell(df, unpacked_col, new_col, key):\n",
    "    \"\"\"\n",
    "    create new column within dataframe storing what is requested and return a collection of unique dictionaries\n",
    "    \n",
    "    Parameters\n",
    "    ----------\n",
    "    Parameters to pass as part of num_col_null\n",
    "    \n",
    "    df : dataframe\n",
    "        dataframe containing column.\n",
    "    unpacked_col : string\n",
    "        column name in dataframe\n",
    "    new_col : string\n",
    "        column name in dataframe\n",
    "    key : string\n",
    "        'key' that is being unpacked from dictionary\n",
    "        \n",
    "    Return\n",
    "    ------\n",
    "    value returned after calling the function\n",
    "    \n",
    "    list_col : list\n",
    "        list containing a collection of unique dictionaries that was unpacked\n",
    "    \n",
    "    \"\"\"\n",
    "\n",
    "    \n",
    "    #============\n",
    "    \n",
    "    # store all possible dictionaries\n",
    "    list_col = [] \n",
    "    \n",
    "    # store list to attach to new_col\n",
    "    cat_list = []\n",
    "    \n",
    "    # loop to extract dictionary\n",
    "    for index, row in tqdm(df[unpacked_col].iteritems(), total=len(df)):\n",
    "    #    if index > 55:\n",
    "    #        break\n",
    "\n",
    "        # create list to store value\n",
    "        temp_list = []   \n",
    "        \n",
    "        # check if row is a list\n",
    "        if type(row) == list:\n",
    "            # check if is empty\n",
    "            if row == []:\n",
    "                cat_list.append(np.nan)\n",
    "            else:\n",
    "                # loop the list within the cell\n",
    "                for i in range(len(row)):\n",
    "                    # check if is existing identified value\n",
    "                    if row[i] not in list_col:\n",
    "                        # if is not in existing identified value, append\n",
    "                        list_col.append(row[i])\n",
    "                    temp_list.append(row[i].get(key, np.nan))\n",
    "                cat_list.append(temp_list)\n",
    "        else:\n",
    "            if row not in list_col:\n",
    "            # if is not in existing identified value, append\n",
    "                list_col.append(row)\n",
    "            cat_list.append(row.get(key, np.nan))\n",
    "    \n",
    "    # attach list to new_col in df\n",
    "    df[new_col] = cat_list\n",
    "    \n",
    "    return list_col"
   ]
  },
  {
   "cell_type": "code",
   "execution_count": 38,
   "id": "48ce4e27",
   "metadata": {},
   "outputs": [
    {
     "data": {
      "text/html": [
       "<div>\n",
       "<style scoped>\n",
       "    .dataframe tbody tr th:only-of-type {\n",
       "        vertical-align: middle;\n",
       "    }\n",
       "\n",
       "    .dataframe tbody tr th {\n",
       "        vertical-align: top;\n",
       "    }\n",
       "\n",
       "    .dataframe thead th {\n",
       "        text-align: right;\n",
       "    }\n",
       "</style>\n",
       "<table border=\"1\" class=\"dataframe\">\n",
       "  <thead>\n",
       "    <tr style=\"text-align: right;\">\n",
       "      <th></th>\n",
       "      <th>num_comments</th>\n",
       "      <th>link_flair_text</th>\n",
       "      <th>post</th>\n",
       "      <th>covid_onset</th>\n",
       "      <th>cleaned_text</th>\n",
       "      <th>tokenised_text</th>\n",
       "      <th>hugging_outcome</th>\n",
       "    </tr>\n",
       "  </thead>\n",
       "  <tbody>\n",
       "    <tr>\n",
       "      <th>0</th>\n",
       "      <td>32</td>\n",
       "      <td>Discussion</td>\n",
       "      <td>submission</td>\n",
       "      <td>no</td>\n",
       "      <td>What is everyone planning on getting during the VIB sale</td>\n",
       "      <td>[input_ids, attention_mask]</td>\n",
       "      <td>[{'label': 'NEU', 'score': 0.6297136545181274}]</td>\n",
       "    </tr>\n",
       "    <tr>\n",
       "      <th>1</th>\n",
       "      <td>21</td>\n",
       "      <td>Discussion</td>\n",
       "      <td>submission</td>\n",
       "      <td>no</td>\n",
       "      <td>The sale went live today for Rouge members What damage did you do Share your goodies here Also if you were not Rouge but decided to pick up some things to grab before they sell out please share as well What I purchased Bite Agave Lip Mask Tatcha Skincare for Makeup Lovers set or some similar name the one with the lip balm mask and water cream Fenty Beauty Invisimatte Blotting Powder Sephora foundation brush Fenty Beauty Gloss Bomb Dr Jart Ceramidin Liquid Caudaulie Vinoperfect Brightening set Nest Fragrances Diffuser in Moroccan Amber Pat McGrath Mothership II Eyshadow Palette in Sublime</td>\n",
       "      <td>[input_ids, attention_mask]</td>\n",
       "      <td>[{'label': 'NEU', 'score': 0.9587526321411133}]</td>\n",
       "    </tr>\n",
       "    <tr>\n",
       "      <th>2</th>\n",
       "      <td>33</td>\n",
       "      <td>Discussion</td>\n",
       "      <td>submission</td>\n",
       "      <td>no</td>\n",
       "      <td>Anyone getting anything with the 25 off of 50 they sent via email I love this coupon because I loooove SR Blue Moon which is exactly 50 Anyone ordering anything EDIT The code is 2017REWARD and it is for Rouge only I think</td>\n",
       "      <td>[input_ids, attention_mask]</td>\n",
       "      <td>[{'label': 'POS', 'score': 0.9651825428009033}]</td>\n",
       "    </tr>\n",
       "    <tr>\n",
       "      <th>3</th>\n",
       "      <td>50</td>\n",
       "      <td>Discussion</td>\n",
       "      <td>submission</td>\n",
       "      <td>no</td>\n",
       "      <td>Which Brands would you like to be present in Sephora Opinions I think I would like to see more Korean brands there because I am just in love with K skincare</td>\n",
       "      <td>[input_ids, attention_mask]</td>\n",
       "      <td>[{'label': 'POS', 'score': 0.9509091973304749}]</td>\n",
       "    </tr>\n",
       "    <tr>\n",
       "      <th>4</th>\n",
       "      <td>14</td>\n",
       "      <td>Discussion</td>\n",
       "      <td>submission</td>\n",
       "      <td>no</td>\n",
       "      <td>Sephora Play AWFUL this month I have generally been fairly impressed with Play there have been a couple products here and there that I was irritated by as I have clearly marked on my profile that I DO NOT need those like why would you send mystifying products and dry shampoo to someone with dry skin and hair but overall its been alright But this month I am LIVID 2 samples from crappy little brands I Have never even heard of PLUS a Sephora brand sample and NO BAG Did everyone get tired of their shit and unsubscribe so now they need to make cutbacks Why was this months SO bad I did not even get what they teased me with in the monthly email Am I the only one who feels this way Because I honestly feel ripped off I think Ill be unsubscribing</td>\n",
       "      <td>[input_ids, attention_mask]</td>\n",
       "      <td>[{'label': 'NEG', 'score': 0.9753867387771606}]</td>\n",
       "    </tr>\n",
       "  </tbody>\n",
       "</table>\n",
       "</div>"
      ],
      "text/plain": [
       "   num_comments link_flair_text        post covid_onset  \\\n",
       "0            32      Discussion  submission          no   \n",
       "1            21      Discussion  submission          no   \n",
       "2            33      Discussion  submission          no   \n",
       "3            50      Discussion  submission          no   \n",
       "4            14      Discussion  submission          no   \n",
       "\n",
       "                                                                                                                                                                                                                                                                                                                                                                                                                                                                                                                                                                                                                                                                                                                                                                 cleaned_text  \\\n",
       "0                                                                                                                                                                                                                                                                                                                                                                                                                                                                                                                                                                                                                                                                                                                    What is everyone planning on getting during the VIB sale   \n",
       "1                                                                                                                                                          The sale went live today for Rouge members What damage did you do Share your goodies here Also if you were not Rouge but decided to pick up some things to grab before they sell out please share as well What I purchased Bite Agave Lip Mask Tatcha Skincare for Makeup Lovers set or some similar name the one with the lip balm mask and water cream Fenty Beauty Invisimatte Blotting Powder Sephora foundation brush Fenty Beauty Gloss Bomb Dr Jart Ceramidin Liquid Caudaulie Vinoperfect Brightening set Nest Fragrances Diffuser in Moroccan Amber Pat McGrath Mothership II Eyshadow Palette in Sublime   \n",
       "2                                                                                                                                                                                                                                                                                                                                                                                                                                                                                                                                               Anyone getting anything with the 25 off of 50 they sent via email I love this coupon because I loooove SR Blue Moon which is exactly 50 Anyone ordering anything EDIT The code is 2017REWARD and it is for Rouge only I think   \n",
       "3                                                                                                                                                                                                                                                                                                                                                                                                                                                                                                                                                                                                                Which Brands would you like to be present in Sephora Opinions I think I would like to see more Korean brands there because I am just in love with K skincare   \n",
       "4  Sephora Play AWFUL this month I have generally been fairly impressed with Play there have been a couple products here and there that I was irritated by as I have clearly marked on my profile that I DO NOT need those like why would you send mystifying products and dry shampoo to someone with dry skin and hair but overall its been alright But this month I am LIVID 2 samples from crappy little brands I Have never even heard of PLUS a Sephora brand sample and NO BAG Did everyone get tired of their shit and unsubscribe so now they need to make cutbacks Why was this months SO bad I did not even get what they teased me with in the monthly email Am I the only one who feels this way Because I honestly feel ripped off I think Ill be unsubscribing   \n",
       "\n",
       "                tokenised_text  \\\n",
       "0  [input_ids, attention_mask]   \n",
       "1  [input_ids, attention_mask]   \n",
       "2  [input_ids, attention_mask]   \n",
       "3  [input_ids, attention_mask]   \n",
       "4  [input_ids, attention_mask]   \n",
       "\n",
       "                                   hugging_outcome  \n",
       "0  [{'label': 'NEU', 'score': 0.6297136545181274}]  \n",
       "1  [{'label': 'NEU', 'score': 0.9587526321411133}]  \n",
       "2  [{'label': 'POS', 'score': 0.9651825428009033}]  \n",
       "3  [{'label': 'POS', 'score': 0.9509091973304749}]  \n",
       "4  [{'label': 'NEG', 'score': 0.9753867387771606}]  "
      ]
     },
     "execution_count": 38,
     "metadata": {},
     "output_type": "execute_result"
    }
   ],
   "source": [
    "pd.set_option('display.max_colwidth', None)\n",
    "sep_sent.head()"
   ]
  },
  {
   "cell_type": "code",
   "execution_count": 39,
   "id": "f20fced1",
   "metadata": {
    "scrolled": true
   },
   "outputs": [
    {
     "data": {
      "text/plain": [
       "[{'label': 'NEU', 'score': 0.6297136545181274}]"
      ]
     },
     "execution_count": 39,
     "metadata": {},
     "output_type": "execute_result"
    }
   ],
   "source": [
    "sep_sent['hugging_outcome'][0]"
   ]
  },
  {
   "cell_type": "code",
   "execution_count": 40,
   "id": "e73ab316",
   "metadata": {},
   "outputs": [],
   "source": [
    "# Using list comprehension\n",
    "# Get values of particular key in list of dictionaries\n",
    "def get_sentiment(x):\n",
    "    value =  [sub['label'] for sub in x]\n",
    "    senti = (value)[0]\n",
    "    return senti"
   ]
  },
  {
   "cell_type": "code",
   "execution_count": 46,
   "id": "043e996e",
   "metadata": {},
   "outputs": [],
   "source": [
    "def get_score(x):\n",
    "    value =  [sub['score'] for sub in x]\n",
    "    score = (value)[0]   \n",
    "    return score"
   ]
  },
  {
   "cell_type": "code",
   "execution_count": 47,
   "id": "e899326d",
   "metadata": {},
   "outputs": [],
   "source": [
    "sep_sent['sentiment'] = sep_sent['hugging_outcome'].apply(lambda x: get_sentiment(x))"
   ]
  },
  {
   "cell_type": "code",
   "execution_count": 48,
   "id": "8618075c",
   "metadata": {},
   "outputs": [],
   "source": [
    "sep_sent['score'] = sep_sent['hugging_outcome'].apply(lambda x: get_score(x))"
   ]
  },
  {
   "cell_type": "code",
   "execution_count": 52,
   "id": "cda0b37a",
   "metadata": {},
   "outputs": [
    {
     "data": {
      "text/html": [
       "<div>\n",
       "<style scoped>\n",
       "    .dataframe tbody tr th:only-of-type {\n",
       "        vertical-align: middle;\n",
       "    }\n",
       "\n",
       "    .dataframe tbody tr th {\n",
       "        vertical-align: top;\n",
       "    }\n",
       "\n",
       "    .dataframe thead th {\n",
       "        text-align: right;\n",
       "    }\n",
       "</style>\n",
       "<table border=\"1\" class=\"dataframe\">\n",
       "  <thead>\n",
       "    <tr style=\"text-align: right;\">\n",
       "      <th></th>\n",
       "      <th>num_comments</th>\n",
       "      <th>link_flair_text</th>\n",
       "      <th>post</th>\n",
       "      <th>covid_onset</th>\n",
       "      <th>cleaned_text</th>\n",
       "      <th>tokenised_text</th>\n",
       "      <th>hugging_outcome</th>\n",
       "      <th>sentiment</th>\n",
       "      <th>score</th>\n",
       "    </tr>\n",
       "  </thead>\n",
       "  <tbody>\n",
       "    <tr>\n",
       "      <th>210</th>\n",
       "      <td>19</td>\n",
       "      <td>Discussion</td>\n",
       "      <td>submission</td>\n",
       "      <td>yes</td>\n",
       "      <td>hmm I did not know my fave MAC lipstick shade that was finished had this much product left hiding in the bottom</td>\n",
       "      <td>[input_ids, attention_mask]</td>\n",
       "      <td>[{'label': 'NEG', 'score': 0.7708085775375366}]</td>\n",
       "      <td>NEG</td>\n",
       "      <td>0.770809</td>\n",
       "    </tr>\n",
       "    <tr>\n",
       "      <th>211</th>\n",
       "      <td>72</td>\n",
       "      <td>Discussion</td>\n",
       "      <td>submission</td>\n",
       "      <td>yes</td>\n",
       "      <td>predictions for 2022s birthday gifts I Am getting excited to see what the birthday gifts for 2022 are going to be so I thought it would be fun to see what other people think could be in next years line up I Am thinking maybe some kind of Charlotte Tilbury set since its one of the hottest brands right now</td>\n",
       "      <td>[input_ids, attention_mask]</td>\n",
       "      <td>[{'label': 'POS', 'score': 0.9474762678146362}]</td>\n",
       "      <td>POS</td>\n",
       "      <td>0.947476</td>\n",
       "    </tr>\n",
       "    <tr>\n",
       "      <th>212</th>\n",
       "      <td>20</td>\n",
       "      <td>Discussion</td>\n",
       "      <td>submission</td>\n",
       "      <td>yes</td>\n",
       "      <td>Sephora Will Not Complete My Refund I returned two items to Sephora by mail on Dec 1st I received the refund on one of the products but when I called the help line they said the other item came incomplete essentially saying the actual product was not in the return package I 100 put the the product in the box Also how dumb would I have to be to keep the product I got super frustrated that they thought I would do such a thing Is there anything I can do Or is it essential the distributors word over mine</td>\n",
       "      <td>[input_ids, attention_mask]</td>\n",
       "      <td>[{'label': 'NEG', 'score': 0.9566491842269897}]</td>\n",
       "      <td>NEG</td>\n",
       "      <td>0.956649</td>\n",
       "    </tr>\n",
       "    <tr>\n",
       "      <th>213</th>\n",
       "      <td>46</td>\n",
       "      <td>Discussion</td>\n",
       "      <td>submission</td>\n",
       "      <td>yes</td>\n",
       "      <td>What Is your favourite Tom Ford Fragrance</td>\n",
       "      <td>[input_ids, attention_mask]</td>\n",
       "      <td>[{'label': 'NEU', 'score': 0.754647433757782}]</td>\n",
       "      <td>NEU</td>\n",
       "      <td>0.754647</td>\n",
       "    </tr>\n",
       "    <tr>\n",
       "      <th>214</th>\n",
       "      <td>80</td>\n",
       "      <td>Discussion</td>\n",
       "      <td>submission</td>\n",
       "      <td>yes</td>\n",
       "      <td>How many foundations do you own I have so many foundations that I want to try How many do you own I have 2 already and do not use them every day so I am afraid they will spoil before I get to use them</td>\n",
       "      <td>[input_ids, attention_mask]</td>\n",
       "      <td>[{'label': 'NEU', 'score': 0.8904446959495544}]</td>\n",
       "      <td>NEU</td>\n",
       "      <td>0.890445</td>\n",
       "    </tr>\n",
       "  </tbody>\n",
       "</table>\n",
       "</div>"
      ],
      "text/plain": [
       "     num_comments link_flair_text        post covid_onset  \\\n",
       "210            19      Discussion  submission         yes   \n",
       "211            72      Discussion  submission         yes   \n",
       "212            20      Discussion  submission         yes   \n",
       "213            46      Discussion  submission         yes   \n",
       "214            80      Discussion  submission         yes   \n",
       "\n",
       "                                                                                                                                                                                                                                                                                                                                                                                                                                                                                                                  cleaned_text  \\\n",
       "210                                                                                                                                                                                                                                                                                                                                                                                                            hmm I did not know my fave MAC lipstick shade that was finished had this much product left hiding in the bottom   \n",
       "211                                                                                                                                                                                                          predictions for 2022s birthday gifts I Am getting excited to see what the birthday gifts for 2022 are going to be so I thought it would be fun to see what other people think could be in next years line up I Am thinking maybe some kind of Charlotte Tilbury set since its one of the hottest brands right now   \n",
       "212  Sephora Will Not Complete My Refund I returned two items to Sephora by mail on Dec 1st I received the refund on one of the products but when I called the help line they said the other item came incomplete essentially saying the actual product was not in the return package I 100 put the the product in the box Also how dumb would I have to be to keep the product I got super frustrated that they thought I would do such a thing Is there anything I can do Or is it essential the distributors word over mine   \n",
       "213                                                                                                                                                                                                                                                                                                                                                                                                                                                                                  What Is your favourite Tom Ford Fragrance   \n",
       "214                                                                                                                                                                                                                                                                                                                   How many foundations do you own I have so many foundations that I want to try How many do you own I have 2 already and do not use them every day so I am afraid they will spoil before I get to use them   \n",
       "\n",
       "                  tokenised_text  \\\n",
       "210  [input_ids, attention_mask]   \n",
       "211  [input_ids, attention_mask]   \n",
       "212  [input_ids, attention_mask]   \n",
       "213  [input_ids, attention_mask]   \n",
       "214  [input_ids, attention_mask]   \n",
       "\n",
       "                                     hugging_outcome sentiment     score  \n",
       "210  [{'label': 'NEG', 'score': 0.7708085775375366}]       NEG  0.770809  \n",
       "211  [{'label': 'POS', 'score': 0.9474762678146362}]       POS  0.947476  \n",
       "212  [{'label': 'NEG', 'score': 0.9566491842269897}]       NEG  0.956649  \n",
       "213   [{'label': 'NEU', 'score': 0.754647433757782}]       NEU  0.754647  \n",
       "214  [{'label': 'NEU', 'score': 0.8904446959495544}]       NEU  0.890445  "
      ]
     },
     "execution_count": 52,
     "metadata": {},
     "output_type": "execute_result"
    }
   ],
   "source": [
    "sep_sent.tail()"
   ]
  },
  {
   "cell_type": "code",
   "execution_count": 51,
   "id": "ef13d35e",
   "metadata": {},
   "outputs": [],
   "source": [
    "pd.DataFrame(sep_sent).to_csv('datasets/sep_sentiment_analysis.csv', index=False)"
   ]
  }
 ],
 "metadata": {
  "kernelspec": {
   "display_name": "Python 3 (ipykernel)",
   "language": "python",
   "name": "python3"
  },
  "language_info": {
   "codemirror_mode": {
    "name": "ipython",
    "version": 3
   },
   "file_extension": ".py",
   "mimetype": "text/x-python",
   "name": "python",
   "nbconvert_exporter": "python",
   "pygments_lexer": "ipython3",
   "version": "3.8.12"
  }
 },
 "nbformat": 4,
 "nbformat_minor": 5
}
